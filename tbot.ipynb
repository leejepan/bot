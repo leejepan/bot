{
 "cells": [
  {
   "cell_type": "code",
   "execution_count": 66,
   "metadata": {},
   "outputs": [],
   "source": [
    "import telebot\n",
    "from selenium import webdriver\n",
    "import time\n",
    "import requests\n",
    "from pyquery import PyQuery\n",
    "import pdfkit\n",
    "import urllib"
   ]
  },
  {
   "cell_type": "code",
   "execution_count": 67,
   "metadata": {},
   "outputs": [],
   "source": [
    "bot = telebot.TeleBot(\"549537097:AAF_uZaiZoprvXRU3sy462acXkS5yE7AttY\")"
   ]
  },
  {
   "cell_type": "code",
   "execution_count": 68,
   "metadata": {},
   "outputs": [],
   "source": [
    "@bot.message_handler(commands=['start', 'help'])\n",
    "def send_welcome(message):\n",
    "    bot.reply_to(message, \"Howdy, how are you doing?\")"
   ]
  },
  {
   "cell_type": "code",
   "execution_count": 69,
   "metadata": {},
   "outputs": [],
   "source": [
    "@bot.message_handler(commands=['1'])\n",
    "def send_results(message):\n",
    "    photo = open('/Users/LeeYiHsun/code/learn_python_test/學區_復興南路二段.png', 'rb')\n",
    "    bot.send_photo(message.chat.id, photo)"
   ]
  },
  {
   "cell_type": "code",
   "execution_count": 70,
   "metadata": {},
   "outputs": [],
   "source": [
    "@bot.message_handler(commands=['2'])\n",
    "def send_results(message):\n",
    "    photo = open('/Users/LeeYiHsun/code/learn_python_test/輻射屋_復興南路二段.png', 'rb')\n",
    "    bot.send_photo(message.chat.id, photo)"
   ]
  },
  {
   "cell_type": "code",
   "execution_count": 71,
   "metadata": {},
   "outputs": [],
   "source": [
    "@bot.message_handler(func=lambda m: True)\n",
    "def echo_all(message):\n",
    "    print(message)\n",
    "    bot.reply_to(message, message.text)"
   ]
  },
  {
   "cell_type": "code",
   "execution_count": 64,
   "metadata": {
    "scrolled": true
   },
   "outputs": [
    {
     "name": "stdout",
     "output_type": "stream",
     "text": [
      "{'content_type': 'text', 'message_id': 104, 'from_user': {'id': 249336815, 'is_bot': False, 'first_name': 'Louis', 'username': 'Louis_Lee', 'last_name': 'Lee', 'language_code': 'zh-Hant-US'}, 'date': 1515775410, 'chat': {'type': 'private', 'last_name': 'Lee', 'first_name': 'Louis', 'username': 'Louis_Lee', 'id': 249336815, 'title': None, 'all_members_are_administrators': None, 'photo': None, 'description': None, 'invite_link': None, 'pinned_message': None, 'sticker_set_name': None, 'can_set_sticker_set': None}, 'forward_from_chat': None, 'forward_from': None, 'forward_date': None, 'reply_to_message': None, 'edit_date': None, 'author_signature': None, 'text': '台北市士林區中山北路六段七五六號四樓', 'entities': None, 'caption_entities': None, 'audio': None, 'document': None, 'photo': None, 'sticker': None, 'video': None, 'video_note': None, 'voice': None, 'caption': None, 'contact': None, 'location': None, 'venue': None, 'new_chat_member': None, 'new_chat_members': None, 'left_chat_member': None, 'new_chat_title': None, 'new_chat_photo': None, 'delete_chat_photo': None, 'group_chat_created': None, 'supergroup_chat_created': None, 'channel_chat_created': None, 'migrate_to_chat_id': None, 'migrate_from_chat_id': None, 'pinned_message': None, 'invoice': None, 'successful_payment': None}\n"
     ]
    }
   ],
   "source": [
    "bot.polling()"
   ]
  },
  {
   "cell_type": "code",
   "execution_count": 72,
   "metadata": {
    "scrolled": false
   },
   "outputs": [],
   "source": [
    "updates = bot.get_updates()"
   ]
  },
  {
   "cell_type": "code",
   "execution_count": 73,
   "metadata": {},
   "outputs": [],
   "source": [
    "update = updates[0]"
   ]
  },
  {
   "cell_type": "code",
   "execution_count": 74,
   "metadata": {
    "scrolled": true
   },
   "outputs": [
    {
     "data": {
      "text/plain": [
       "'台北市士林區中山北路六段七五六號四樓'"
      ]
     },
     "execution_count": 74,
     "metadata": {},
     "output_type": "execute_result"
    }
   ],
   "source": [
    "update.message.text"
   ]
  },
  {
   "cell_type": "code",
   "execution_count": null,
   "metadata": {},
   "outputs": [],
   "source": [
    "res = requests.get('https://api.telegram.org/bot549537097:AAF_uZaiZoprvXRU3sy462acXkS5yE7AttY/getUpdates')"
   ]
  },
  {
   "cell_type": "code",
   "execution_count": null,
   "metadata": {},
   "outputs": [],
   "source": [
    "data = res.json()"
   ]
  },
  {
   "cell_type": "code",
   "execution_count": null,
   "metadata": {},
   "outputs": [],
   "source": [
    "data.keys()"
   ]
  },
  {
   "cell_type": "code",
   "execution_count": null,
   "metadata": {},
   "outputs": [],
   "source": [
    "data['result'][0].keys()"
   ]
  },
  {
   "cell_type": "code",
   "execution_count": null,
   "metadata": {},
   "outputs": [],
   "source": [
    "data['result'][0]['message'].keys()"
   ]
  },
  {
   "cell_type": "code",
   "execution_count": null,
   "metadata": {},
   "outputs": [],
   "source": [
    "update.message.chat.id"
   ]
  },
  {
   "cell_type": "code",
   "execution_count": null,
   "metadata": {},
   "outputs": [],
   "source": [
    "update.message.text"
   ]
  },
  {
   "cell_type": "code",
   "execution_count": 83,
   "metadata": {},
   "outputs": [],
   "source": [
    "##\"chat\":{\"id\":249336815"
   ]
  },
  {
   "cell_type": "code",
   "execution_count": 6,
   "metadata": {},
   "outputs": [],
   "source": [
    "###地址"
   ]
  },
  {
   "cell_type": "code",
   "execution_count": 75,
   "metadata": {},
   "outputs": [],
   "source": [
    "address = update.message.text"
   ]
  },
  {
   "cell_type": "code",
   "execution_count": 76,
   "metadata": {},
   "outputs": [],
   "source": [
    "def check_len(x):\n",
    "    if x:\n",
    "        return len(x)+1\n",
    "    else:\n",
    "        return len(x)"
   ]
  },
  {
   "cell_type": "code",
   "execution_count": 77,
   "metadata": {},
   "outputs": [],
   "source": [
    "def ch2int(x):\n",
    "    ch2int_dict ={u'零':0, u'一':1, u'二':2, u'三':3, u'四':4, u'五':5, u'六':6, u'七':7, u'八':8, u'九':9, u'十':10, u'百':100, u'千':1000, u'万':10000,\n",
    "                  u'０':0, u'１':1, u'２':2, u'３':3, u'４':4, u'５':5, u'６':6, u'７':7, u'８':8, u'９':9,\n",
    "                  u'壹':1, u'貳':2, u'參':3, u'肆':4, u'伍':5, u'陸':6, u'柒':7, u'捌':8, u'玖':9, u'拾':10, u'佰':100, u'仟':1000, u'萬':10000,\n",
    "                  u'億':100000000}\n",
    "    return ('').join([str(ch2int_dict[i]) if i in ch2int_dict else i for i in x])"
   ]
  },
  {
   "cell_type": "code",
   "execution_count": 78,
   "metadata": {},
   "outputs": [],
   "source": [
    "if '市' in address[:3]:\n",
    "    city = address.split('市')[0]\n",
    "    if '區' in address[3:6]:\n",
    "        area = address[3:6].split('區')[0]\n",
    "        if '段' in address[6:]:\n",
    "            road = address[6:].split('段')[0]+'段'\n",
    "        elif '街' in address[6:]:\n",
    "            road = address[6:].split('街')[0]+'街'\n",
    "        elif '路' in address[6:]:\n",
    "            road = address[6:].split('路')[0]+'路'\n",
    "\n",
    "        if '巷' in address[6+len(road):]:\n",
    "            巷 = ch2int(address[6+len(road):].split('巷')[0])\n",
    "        else:\n",
    "            巷 = ''\n",
    "        \n",
    "        if '弄' in address[6+len(road)+check_len(巷):]:\n",
    "            弄 = ch2int(address[6+len(road)+check_len(巷):].split('弄')[0])\n",
    "        else:\n",
    "            弄 = ''\n",
    "        \n",
    "        if '號' in address[6+len(road)+check_len(巷)+check_len(弄):]:\n",
    "            號 = ch2int(address[6+len(road)+check_len(巷)+check_len(弄):].split('號')[0])\n",
    "            if '之' in 號 or '-' in 號:\n",
    "                大號 = ch2int(號.split('之')[0] if '之' in 號 else 號.split('-')[0])\n",
    "                小號 = ch2int(號.split('之')[1] if '之' in 號 else 號.split('-')[1])\n",
    "            else:\n",
    "                大號 = 號\n",
    "                小號 = ''\n",
    "        else:\n",
    "            號 = ''\n",
    "            大號 = ''\n",
    "            小號 = ''\n",
    "        \n",
    "        if '樓' in address[6+len(road)+check_len(巷)+check_len(弄)+check_len(號):]:\n",
    "            樓 = ch2int(address[6+len(road)+check_len(巷)+check_len(弄)+check_len(號):].split('樓')[0])\n",
    "            if '之'in 號 or '-' in 號:\n",
    "                大樓 = ch2int(樓.split('之')[0] if '之' in 樓 else 樓.split('-')[0])\n",
    "                小樓 = ch2int(樓.split('之')[1] if '之' in 樓 else 樓.split('-')[1])\n",
    "            else:\n",
    "                大樓 = 樓\n",
    "                小樓 = ''\n",
    "        else:\n",
    "            樓 = ''\n",
    "            大樓 = ''\n",
    "            小樓 = ''\n",
    "                          \n",
    "elif '縣' in address[:3]:\n",
    "    city = address.split('縣')[0]"
   ]
  },
  {
   "cell_type": "code",
   "execution_count": 79,
   "metadata": {},
   "outputs": [],
   "source": [
    "addlist = {'city':city, 'area':area, 'road':road, '巷':巷, '弄':弄, '號':號, '大號':大號, '小號':小號, '樓':樓, '大樓':大樓, '小樓':小樓}"
   ]
  },
  {
   "cell_type": "code",
   "execution_count": 80,
   "metadata": {},
   "outputs": [
    {
     "data": {
      "text/plain": [
       "{'area': '士林',\n",
       " 'city': '台北',\n",
       " 'road': '中山北路六段',\n",
       " '大樓': '4',\n",
       " '大號': '756',\n",
       " '小樓': '',\n",
       " '小號': '',\n",
       " '巷': '',\n",
       " '弄': '',\n",
       " '樓': '4',\n",
       " '號': '756'}"
      ]
     },
     "execution_count": 80,
     "metadata": {},
     "output_type": "execute_result"
    }
   ],
   "source": [
    "addlist"
   ]
  },
  {
   "cell_type": "code",
   "execution_count": 81,
   "metadata": {},
   "outputs": [],
   "source": [
    "##違建"
   ]
  },
  {
   "cell_type": "code",
   "execution_count": 82,
   "metadata": {},
   "outputs": [],
   "source": [
    "url = 'http://qservice.dba.tcg.gov.tw/squatter/find_squ.asp'"
   ]
  },
  {
   "cell_type": "code",
   "execution_count": 83,
   "metadata": {},
   "outputs": [],
   "source": [
    "form = {'basad1':addlist['road'],\n",
    "        'basad2':addlist['巷'],\n",
    "        'basad3':addlist['弄'],\n",
    "        'basad4':addlist['大號'],\n",
    "        'address':addlist['road']+addlist['大號']+'號',\n",
    "        'seltype': '2'}"
   ]
  },
  {
   "cell_type": "code",
   "execution_count": 84,
   "metadata": {},
   "outputs": [
    {
     "data": {
      "text/plain": [
       "'basad1=%E4%B8%AD%E5%B1%B1%E5%8C%97%E8%B7%AF%E5%85%AD%E6%AE%B5&basad2=&basad3=&basad4=756&address=%E4%B8%AD%E5%B1%B1%E5%8C%97%E8%B7%AF%E5%85%AD%E6%AE%B5756%E8%99%9F&seltype=2'"
      ]
     },
     "execution_count": 84,
     "metadata": {},
     "output_type": "execute_result"
    }
   ],
   "source": [
    "urlencode = urllib.parse.urlencode(form)\n",
    "urlencode"
   ]
  },
  {
   "cell_type": "code",
   "execution_count": 85,
   "metadata": {},
   "outputs": [
    {
     "data": {
      "text/plain": [
       "'http://qservice.dba.tcg.gov.tw/squatter/find_squ.asp?basad1=%E4%B8%AD%E5%B1%B1%E5%8C%97%E8%B7%AF%E5%85%AD%E6%AE%B5&basad2=&basad3=&basad4=756&address=%E4%B8%AD%E5%B1%B1%E5%8C%97%E8%B7%AF%E5%85%AD%E6%AE%B5756%E8%99%9F&seltype=2'"
      ]
     },
     "execution_count": 85,
     "metadata": {},
     "output_type": "execute_result"
    }
   ],
   "source": [
    "url_encoded = url+'?'+urlencode\n",
    "url_encoded"
   ]
  },
  {
   "cell_type": "code",
   "execution_count": null,
   "metadata": {},
   "outputs": [],
   "source": [
    "options = {\n",
    "    'page-size': 'A5',\n",
    "    'margin-top': '0in',\n",
    "    'margin-right': '0in',\n",
    "    'margin-bottom': '0in',\n",
    "    'margin-left': '0in',\n",
    "    'encoding': \"UTF-8\",\n",
    "    'no-outline': None,\n",
    "    'zoom': '5',\n",
    "}"
   ]
  },
  {
   "cell_type": "code",
   "execution_count": null,
   "metadata": {},
   "outputs": [],
   "source": [
    "pdfkit.from_url(url_encoded, '違建_%s.pdf'%addlist['road'], options=options)"
   ]
  },
  {
   "cell_type": "code",
   "execution_count": null,
   "metadata": {},
   "outputs": [],
   "source": []
  },
  {
   "cell_type": "code",
   "execution_count": null,
   "metadata": {},
   "outputs": [],
   "source": [
    "##學區"
   ]
  },
  {
   "cell_type": "code",
   "execution_count": 86,
   "metadata": {},
   "outputs": [],
   "source": [
    "chrome = webdriver.Chrome('./chromedriver')"
   ]
  },
  {
   "cell_type": "code",
   "execution_count": 87,
   "metadata": {},
   "outputs": [],
   "source": [
    "chrome.get('https://www.tp.edu.tw/neighbor/html/')"
   ]
  },
  {
   "cell_type": "code",
   "execution_count": 88,
   "metadata": {},
   "outputs": [],
   "source": [
    "chrome.find_element_by_id('k2').send_keys(address)"
   ]
  },
  {
   "cell_type": "code",
   "execution_count": 89,
   "metadata": {},
   "outputs": [],
   "source": [
    "chrome.find_element_by_id('searchBtn2').click()"
   ]
  },
  {
   "cell_type": "code",
   "execution_count": 90,
   "metadata": {},
   "outputs": [],
   "source": [
    "time.sleep(5)"
   ]
  },
  {
   "cell_type": "code",
   "execution_count": 91,
   "metadata": {},
   "outputs": [
    {
     "data": {
      "text/plain": [
       "True"
      ]
     },
     "execution_count": 91,
     "metadata": {},
     "output_type": "execute_result"
    }
   ],
   "source": [
    "chrome.save_screenshot('學區_%s.png'%addlist['road'])"
   ]
  },
  {
   "cell_type": "code",
   "execution_count": null,
   "metadata": {},
   "outputs": [],
   "source": []
  },
  {
   "cell_type": "code",
   "execution_count": 92,
   "metadata": {},
   "outputs": [],
   "source": [
    "def send_results(message):\n",
    "    photo = open('/Users/LeeYiHsun/code/learn_python_test/學區_%s.png'%addlist['road'], 'rb')\n",
    "    bot.send_photo(message.chat.id, photo)"
   ]
  },
  {
   "cell_type": "code",
   "execution_count": null,
   "metadata": {},
   "outputs": [],
   "source": []
  }
 ],
 "metadata": {
  "kernelspec": {
   "display_name": "Python 3",
   "language": "python",
   "name": "python3"
  },
  "language_info": {
   "codemirror_mode": {
    "name": "ipython",
    "version": 3
   },
   "file_extension": ".py",
   "mimetype": "text/x-python",
   "name": "python",
   "nbconvert_exporter": "python",
   "pygments_lexer": "ipython3",
   "version": "3.6.3"
  }
 },
 "nbformat": 4,
 "nbformat_minor": 2
}
